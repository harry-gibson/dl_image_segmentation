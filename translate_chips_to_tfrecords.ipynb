{
 "cells": [
  {
   "cell_type": "code",
   "execution_count": 1,
   "metadata": {},
   "outputs": [],
   "source": [
    "import os\n",
    "import glob\n",
    "from joblib import Parallel, delayed"
   ]
  },
  {
   "cell_type": "markdown",
   "metadata": {},
   "source": [
    "# Converting the images to tensorflow data\n",
    "\n",
    "## Convert classified image folders to tfrecords\n",
    "\n",
    "For each pair of image/label files, we want to create a tensorflow Example and then write those to a .tfrecords file.\n",
    "\n",
    "In order to be able to parallelise this step, we'll create sharded output files i.e. one .tfrecords for each worker.\n",
    "\n",
    "## Approach 1: Translate to tfrecords via multithreaded process.\n",
    "\n",
    "This is taken from #https://github.com/tensorflow/models/blob/f87a58cd96d45de73c9a8330a06b2ab56749a7fa/research/inception/inception/data/build_image_data.py#L291\n",
    "\n",
    "This uses tensorflow libraries to do all the time consuming parts like reading the image files. Because they are written with this in mind they can be parallelised through multithreading (they don't lock the GIL). However this means that we're limited to what they provide in terms of supported data types etc. In particular they don't support geotiffs or images >8bit depth. So we can only do this for our RGB imagery and first we have to translate the GeoTIFFs to PNG (or could make these in the first place)."
   ]
  },
  {
   "cell_type": "code",
   "execution_count": 13,
   "metadata": {},
   "outputs": [],
   "source": [
    "IMAGE_FOLDER = r'C:/Users/harry/Documents/Data/airbus_1m_16pad//'\n",
    "new_imagefolder = r'C:/Users/harry/Documents/Data/airbus_1m_16pad_png/' \n",
    "#new_images = glob.glob(os.path.join(new_imagefolder, 'images', '*.png'))\n",
    "tf_thread_folder = r'C:\\Users\\harry\\Documents\\Data\\tf_threaded_jpg'\n",
    "tf_mp_folder = r'C:\\Users\\harry\\Documents\\Data\\tf_mp'\n",
    "tf_mp_tif_folder = r'C:\\Users\\harry\\Documents\\Data\\tf_tif_mp'\n",
    "sentinel_img_folder = r'C:\\Users\\harry\\Documents\\Data\\sentinel_10m_2pad'\n",
    "tf_mp_sentinel_folder = r'C:\\Users\\harry\\Documents\\Data\\tf_sentinel_mp'"
   ]
  },
  {
   "cell_type": "code",
   "execution_count": 42,
   "metadata": {},
   "outputs": [],
   "source": [
    "IMAGE_FOLDER = r'C:/Users/harry/Documents/Data/sentinel_10m_2pad_SR_sudan/'\n",
    "TF_FOLDER = r'C:/Users/harry/Documents/Data/tf_sentinel_SR_arr_sudan/'\n"
   ]
  },
  {
   "cell_type": "markdown",
   "metadata": {},
   "source": [
    "### Translate all the tiffs to PNGs\n",
    "\n",
    "This is only appropriate for the 3 band 8-bit imagery! Do this to translate all the tiffs in a folder to pngs."
   ]
  },
  {
   "cell_type": "code",
   "execution_count": null,
   "metadata": {},
   "outputs": [],
   "source": [
    "import rasterio\n",
    "def translate_tif_to_png(tif_path):\n",
    "    with rasterio.open(tif_path, 'r') as ds:\n",
    "        out_path = tif_path.replace(IMAGE_FOLDER, new_imagefolder).replace('.tif', '.png')\n",
    "        if not os.path.exists(os.path.dirname(out_path)):\n",
    "            os.makedirs(os.path.dirname(out_path))\n",
    "        with rasterio.open(out_path, 'w', driver='PNG',\n",
    "                          width=ds.width, height=ds.height, count=ds.count,\n",
    "                           dtype=ds.dtypes[0],nodata=ds.nodata,transform=ds.transform, \n",
    "                           crs=ds.crs) as dst:\n",
    "            dst.write(ds.read())\n",
    "\n",
    "images = glob.glob(os.path.join(IMAGE_FOLDER, 'images',  '*.tif'))\n",
    "labels = glob.glob(os.path.join(IMAGE_FOLDER, 'labels',  '*.tif'))\n",
    "Parallel(n_jobs=8)(delayed(translate_tif_to_png)(t) for t in images)\n",
    "Parallel(n_jobs=8)(delayed(translate_tif_to_png)(t) for t in labels)\n",
    "IMAGE_FOLDER = new_imagefolder"
   ]
  },
  {
   "cell_type": "code",
   "execution_count": 19,
   "metadata": {},
   "outputs": [],
   "source": [
    "import img_to_tf_threaded;from img_to_tf_threaded import process_dataset_multithreaded\n",
    "import tensorflow as tf\n",
    "import numpy as np"
   ]
  },
  {
   "cell_type": "code",
   "execution_count": 1,
   "metadata": {},
   "outputs": [],
   "source": [
    "import tf_example_creation; from tf_example_creation import convert_to_example"
   ]
  },
  {
   "cell_type": "markdown",
   "metadata": {},
   "source": [
    "We can use this function to translate a complete image folder tree to sharded tfrecords,  if the images are 8-bit PNG or JPG files (although currently it's coded to look for only PNG). PNGs can be transcoded to JPG along the way, which decreases filesize but is lossy.\n",
    "\n",
    "This process is super fast as it uses optimised TF code throughout."
   ]
  },
  {
   "cell_type": "code",
   "execution_count": null,
   "metadata": {},
   "outputs": [],
   "source": [
    "process_dataset_multithreaded(name=\"test\",  directory=IMAGE_FOLDER, out_directory=TF_FOLDER_MP, \n",
    "                              num_shards=12, num_threads=12,\n",
    "                             dltile_from_filename=True, convert_png_to_jpg=False,\n",
    "                             store_as_array=True)"
   ]
  },
  {
   "cell_type": "markdown",
   "metadata": {},
   "source": [
    "## Approach 2: Translate to tfrecords via multiprocessing\n",
    "\n",
    "Tensorflow native code doesn't have any readers for Tiff files and imagery stuff in general seems to be strongly oriented around 3 band 8 bit images, so isn't helpful for multispectral tiff files with higher bit depths.\n",
    "\n",
    "We'll use rasterio to load the image data. However we still use the tf API to actually read the data from disk then Rasterio parses it as an in-memory dataset (this seems hugely faster). \n",
    "\n",
    "We can't profitably use multithreading because the GIL won't get released so it won't be any faster. Instead we process the images using multiprocessing to split into shards / batches, each process will write one or more separate tfrecords files. "
   ]
  },
  {
   "cell_type": "code",
   "execution_count": 4,
   "metadata": {},
   "outputs": [],
   "source": [
    "import img_to_tf_mp; from img_to_tf_mp import process_dataset_mp"
   ]
  },
  {
   "cell_type": "code",
   "execution_count": 5,
   "metadata": {},
   "outputs": [],
   "source": [
    "import tensorflow as tf"
   ]
  },
  {
   "cell_type": "code",
   "execution_count": null,
   "metadata": {},
   "outputs": [],
   "source": [
    "reload(img_to_tf_mp)"
   ]
  },
  {
   "cell_type": "code",
   "execution_count": 43,
   "metadata": {},
   "outputs": [
    {
     "name": "stdout",
     "output_type": "stream",
     "text": [
      "Determining list of input files and labels from C:/Users/harry/Documents/Data/sentinel_10m_2pad_SR_sudan/.\n",
      "Found 527 tif image files and 527 label files inside C:/Users/harry/Documents/Data/sentinel_10m_2pad_SR_sudan/.\n"
     ]
    }
   ],
   "source": [
    "process_dataset_mp(name=\"sentinel_SR_arr_sudan\", directory=IMAGE_FOLDER, out_directory=TF_FOLDER, \n",
    "                   num_shards=12, num_proc=12, \n",
    "                   dltile_from_filename=True, file_ext='tif', \n",
    "                   store_as_array=True) "
   ]
  },
  {
   "cell_type": "markdown",
   "metadata": {},
   "source": [
    "## Approach 3 : don't translate to tfrecords files, define a mapping in the pipeline\n",
    "\n",
    "\n",
    "(TBD)"
   ]
  },
  {
   "cell_type": "code",
   "execution_count": 45,
   "metadata": {},
   "outputs": [],
   "source": [
    "img_files = tf.constant([tpl[0] for tpl in res])\n",
    "lbl_files = tf.constant([tpl[1] for tpl in res])"
   ]
  },
  {
   "cell_type": "code",
   "execution_count": 46,
   "metadata": {},
   "outputs": [],
   "source": [
    "ds = tf.data.Dataset.from_tensor_slices((img_files, lbl_files))"
   ]
  },
  {
   "cell_type": "code",
   "execution_count": null,
   "metadata": {},
   "outputs": [],
   "source": [
    "from tf_example_creation import convert_to_example\n",
    "from img_to_tf_threaded import _process_image, ImageCoder\n",
    "\n",
    "coder = ImageCoder()\n",
    "\n",
    "def eg_from_image_paths(image_file, label_file):\n",
    "    img_arr, h, w, c, k = _process_image(image_file, coder)\n",
    "    target_arr, _, _, _, k2 = _process_image(label_file, coder)\n",
    "    assert k == k2\n",
    "    eg = convert_to_example(img_arr, target_arr, h, w, c, h, w, k)\n",
    "    #[img_arr, lbl_arr, shp, dlkey] = tf.py_function(_process_image_and_lbl, image_file, label_file)\n",
    "    #img_arr.set_shape(shp)\n",
    "    return img_arr, lbl_arr, shp, dlkey"
   ]
  },
  {
   "cell_type": "code",
   "execution_count": null,
   "metadata": {},
   "outputs": [],
   "source": [
    "ds = ds.map(eg_from_image_paths)"
   ]
  },
  {
   "cell_type": "code",
   "execution_count": null,
   "metadata": {},
   "outputs": [],
   "source": [
    "\n",
    "# convert classified image folders to tfrecords\n",
    "\n",
    "def tfrecord_from_images(imgpath, lblpath):\n",
    "    #  parse the dl tile key back out of the filename\n",
    "    dl_tile_key = os.path.basename(imgpath).split()\n",
    "infiles = glob.glob(r'E:\\Temp\\mumbai_esri_train2m\\images\\*.tif')\n",
    "len(infiles)"
   ]
  }
 ],
 "metadata": {
  "kernelspec": {
   "display_name": "Python 3",
   "language": "python",
   "name": "python3"
  },
  "language_info": {
   "codemirror_mode": {
    "name": "ipython",
    "version": 3
   },
   "file_extension": ".py",
   "mimetype": "text/x-python",
   "name": "python",
   "nbconvert_exporter": "python",
   "pygments_lexer": "ipython3",
   "version": "3.7.9"
  }
 },
 "nbformat": 4,
 "nbformat_minor": 4
}
