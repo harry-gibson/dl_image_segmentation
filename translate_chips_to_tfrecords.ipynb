{
 "cells": [
  {
   "cell_type": "code",
   "execution_count": 1,
   "metadata": {},
   "outputs": [],
   "source": [
    "import os\n",
    "import glob\n",
    "from joblib import Parallel, delayed"
   ]
  },
  {
   "cell_type": "markdown",
   "metadata": {},
   "source": [
    "# Convert classified tile image chips to TFRecords\n",
    "\n",
    "We assume that we have a dataset consisting of one folder of images, and a parallel folder of label images. The files in each folder are identically named and the label image gives the ground-truth classification of each image in the images folder.\n",
    "\n",
    "This notebook contains approaches for efficiently converting such datasets into TFRecords."
   ]
  },
  {
   "cell_type": "markdown",
   "metadata": {},
   "source": [
    "## Convert classified image folders to tfrecords\n",
    "\n",
    "For each pair of image/label files, we want to create a tensorflow Example and then write those to a .tfrecords file.\n",
    "\n",
    "In order to be able to parallelise this step, we'll create sharded output files i.e. one .tfrecords for each worker.\n",
    "\n",
    "We have two alternative approaches: one which uses tensorflow code for image I/O and decoding - this code releases the GIL and can profitably be multithreaded; and another approach which uses GDAL to decode images - this code cannot usefully be multithreaded but a multiprocessing approach is used instead.\n",
    "\n",
    "**Unless you have a specific reason to do otherwise I recommend you use the multiprocessing approach; the difference in speed is minimal and it's a lot more flexible.**"
   ]
  },
  {
   "cell_type": "markdown",
   "metadata": {},
   "source": [
    "### Define path to the image chips\n",
    "\n",
    "Define 3 variables:\n",
    "\n",
    "* `IMAGE_FOLDER` - the folder where the image chips have been created. Should contain subfolders called `images` and `labels`\n",
    "\n",
    "* `TF_FOLDER` - the folder where the TFRecord files should be created\n",
    "\n",
    "* `TF_DATASET` - the filename stem for the TFRecord files. The output filenames will be in the format TF_DATASET-00001-of-nnnnn\n"
   ]
  },
  {
   "cell_type": "code",
   "execution_count": 6,
   "metadata": {},
   "outputs": [],
   "source": [
    "IMAGE_FOLDER = r'/mnt/c/Users/harry/Documents/Data/airbus_50cm_0.5m_4pad_256_lusaka_2017-closest/'\n",
    "\n",
    "_tf_base = r'/mnt/c/Users/harry/Documents/Data/lusaka_tfrecords'\n",
    "\n",
    "_tf_base = r'../../Data/lusaka_tfrecords'\n",
    "TF_FOLDER = os.path.join(_tf_base, 'lusaka_50cm_rgb_2017')\n",
    "TF_DATASET = \"lusaka_50cm_rgb_2017\"\n"
   ]
  },
  {
   "cell_type": "markdown",
   "metadata": {},
   "source": [
    "---\n",
    "## Approach 1: Translate to tfrecords via multithreaded process.\n",
    "\n",
    "This is taken from #https://github.com/tensorflow/models/blob/f87a58cd96d45de73c9a8330a06b2ab56749a7fa/research/inception/inception/data/build_image_data.py#L291\n",
    "\n",
    "This uses tensorflow libraries to do all the time consuming parts like reading the image files. Because they are written with this in mind they can be parallelised through multithreading (they don't lock the GIL). However this means that we're limited to what they provide in terms of supported data types etc. In particular they don't support geotiffs or images >8bit depth. \n",
    "\n",
    "So this approach can only be used for RGB imagery in JPG/PNG/BMP format. "
   ]
  },
  {
   "cell_type": "markdown",
   "metadata": {},
   "source": [
    "### Translate all the tiffs to PNGs if needed\n",
    "\n",
    "The multithreaded process can only read PNG/JPG/BMP format images. If you have 3-band 8-bit imagery in some other format (e.g. GeoTIFF) then you can use this cell to translate them all to PNGs in order to then use the multithreaded translation to TFRecords. "
   ]
  },
  {
   "cell_type": "code",
   "execution_count": null,
   "metadata": {},
   "outputs": [],
   "source": [
    "# define a folder for the translated PNG image chips\n",
    "png_images = \"path\\to\\png_output\"\n",
    "\n",
    "import rasterio\n",
    "def translate_tif_to_png(tif_path):\n",
    "    with rasterio.open(tif_path, 'r') as ds:\n",
    "        out_path = tif_path.replace(IMAGE_FOLDER, png_images).replace('.tif', '.png')\n",
    "        if not os.path.exists(os.path.dirname(out_path)):\n",
    "            os.makedirs(os.path.dirname(out_path))\n",
    "        with rasterio.open(out_path, 'w', driver='PNG',\n",
    "                          width=ds.width, height=ds.height, count=ds.count,\n",
    "                           dtype=ds.dtypes[0],nodata=ds.nodata,transform=ds.transform, \n",
    "                           crs=ds.crs) as dst:\n",
    "            dst.write(ds.read())\n",
    "\n",
    "images = glob.glob(os.path.join(IMAGE_FOLDER, 'images',  '*.tif'))\n",
    "labels = glob.glob(os.path.join(IMAGE_FOLDER, 'labels',  '*.tif'))\n",
    "Parallel(n_jobs=8)(delayed(translate_tif_to_png)(t) for t in images)\n",
    "Parallel(n_jobs=8)(delayed(translate_tif_to_png)(t) for t in labels)\n",
    "IMAGE_FOLDER = png_images"
   ]
  },
  {
   "cell_type": "code",
   "execution_count": 13,
   "metadata": {},
   "outputs": [],
   "source": [
    "IMAGE_FOLDER = png_images"
   ]
  },
  {
   "cell_type": "markdown",
   "metadata": {},
   "source": [
    "### Run multithreaded TFRecord creation"
   ]
  },
  {
   "cell_type": "code",
   "execution_count": 1,
   "metadata": {},
   "outputs": [],
   "source": [
    "from dl_segmentation_utils import images_to_tfrecords_mt\n",
    "import tensorflow as tf\n",
    "import numpy as np"
   ]
  },
  {
   "cell_type": "markdown",
   "metadata": {},
   "source": [
    "We can use this function to translate a complete image folder tree to sharded tfrecords,  if the images are 8-bit PNG or JPG files (although currently it's coded to look for only PNG). PNGs can be transcoded to JPG along the way, which decreases filesize but is lossy.\n",
    "\n",
    "This process is super fast as it uses optimised TF code throughout."
   ]
  },
  {
   "cell_type": "code",
   "execution_count": null,
   "metadata": {},
   "outputs": [],
   "source": [
    "images_to_tfrecords_mt(name=\"airbus_raw_mumbai_png\",  directory=IMAGE_FOLDER, out_directory=TF_FOLDER, \n",
    "                              num_shards=12, num_threads=12,\n",
    "                             dltile_from_filename=True, convert_png_to_jpg=False,\n",
    "                             store_as_array=False)"
   ]
  },
  {
   "cell_type": "markdown",
   "metadata": {},
   "source": [
    "----\n",
    "\n",
    "## Approach 2: Translate to tfrecords via multiprocessing\n",
    "\n",
    "Tensorflow native code doesn't have any readers for Tiff files and imagery stuff in general seems to be strongly oriented around 3 band 8 bit images, so isn't helpful for multispectral tiff files with higher bit depths.\n",
    "\n",
    "We'll use rasterio (a wrapper around GDAL) to load the image data. However within this code we still use the TF API to actually read the data from disk into memory, then Rasterio parses it as an in-memory dataset. This is hugely faster than having rasterio simply read the files from disk itself.\n",
    "\n",
    "We can't profitably use multithreading because the GIL won't get released so it won't be any faster. Instead we process the images using multiprocessing to split into shards / batches, each process will write one or more separate tfrecords files. "
   ]
  },
  {
   "cell_type": "code",
   "execution_count": 3,
   "metadata": {},
   "outputs": [],
   "source": [
    "from dl_segmentation_utils import images_to_tfrecords_mp"
   ]
  },
  {
   "cell_type": "code",
   "execution_count": 4,
   "metadata": {},
   "outputs": [],
   "source": [
    "import tensorflow as tf"
   ]
  },
  {
   "cell_type": "code",
   "execution_count": 8,
   "metadata": {},
   "outputs": [
    {
     "name": "stdout",
     "output_type": "stream",
     "text": [
      "Determining list of input files and labels from /mnt/c/Users/harry/Documents/Data/airbus_50cm_0.5m_4pad_256_lusaka_2017-closest/.\n",
      "Found 3444 tif image files and 3444 label files inside /mnt/c/Users/harry/Documents/Data/airbus_50cm_0.5m_4pad_256_lusaka_2017-closest/.\n"
     ]
    }
   ],
   "source": [
    "images_to_tfrecords_mp(name=TF_DATASET, directory=IMAGE_FOLDER, out_directory=TF_FOLDER, \n",
    "                   num_shards=12, num_proc=12, \n",
    "                   dltile_from_filename=True, file_ext='tif', \n",
    "                   store_as_array=True) "
   ]
  },
  {
   "cell_type": "markdown",
   "metadata": {},
   "source": [
    "---\n",
    "## Approach 3 : don't translate to tfrecords files, define a mapping in the pipeline\n",
    "\n",
    "\n",
    "(TBD)"
   ]
  },
  {
   "cell_type": "code",
   "execution_count": 45,
   "metadata": {},
   "outputs": [],
   "source": [
    "img_files = tf.constant([tpl[0] for tpl in res])\n",
    "lbl_files = tf.constant([tpl[1] for tpl in res])"
   ]
  },
  {
   "cell_type": "code",
   "execution_count": 46,
   "metadata": {},
   "outputs": [],
   "source": [
    "ds = tf.data.Dataset.from_tensor_slices((img_files, lbl_files))"
   ]
  },
  {
   "cell_type": "code",
   "execution_count": null,
   "metadata": {},
   "outputs": [],
   "source": [
    "from dl_segmentation_utils import convert_to_example\n",
    "# todo - intended this to be private, expose it on the package if we do want to do this.\n",
    "from dl_segmentation_utils._img_to_tf_threaded import _process_image, ImageCoder\n",
    "\n",
    "coder = ImageCoder()\n",
    "\n",
    "def eg_from_image_paths(image_file, label_file):\n",
    "    img_arr, h, w, c, k = _process_image(image_file, coder)\n",
    "    target_arr, _, _, _, k2 = _process_image(label_file, coder)\n",
    "    assert k == k2\n",
    "    eg = convert_to_example(img_arr, target_arr, h, w, c, h, w, k)\n",
    "    #[img_arr, lbl_arr, shp, dlkey] = tf.py_function(_process_image_and_lbl, image_file, label_file)\n",
    "    #img_arr.set_shape(shp)\n",
    "    return img_arr, lbl_arr, shp, dlkey"
   ]
  },
  {
   "cell_type": "code",
   "execution_count": null,
   "metadata": {},
   "outputs": [],
   "source": [
    "ds = ds.map(eg_from_image_paths)"
   ]
  },
  {
   "cell_type": "code",
   "execution_count": null,
   "metadata": {},
   "outputs": [],
   "source": [
    "\n",
    "# convert classified image folders to tfrecords\n",
    "\n",
    "def tfrecord_from_images(imgpath, lblpath):\n",
    "    #  parse the dl tile key back out of the filename\n",
    "    dl_tile_key = os.path.basename(imgpath).split()\n",
    "infiles = glob.glob(r'E:\\Temp\\mumbai_esri_train2m\\images\\*.tif')\n",
    "len(infiles)"
   ]
  }
 ],
 "metadata": {
  "kernelspec": {
   "display_name": "Python [conda env:descarteslabs_new]",
   "language": "python",
   "name": "conda-env-descarteslabs_new-py"
  },
  "language_info": {
   "codemirror_mode": {
    "name": "ipython",
    "version": 3
   },
   "file_extension": ".py",
   "mimetype": "text/x-python",
   "name": "python",
   "nbconvert_exporter": "python",
   "pygments_lexer": "ipython3",
   "version": "3.8.10"
  }
 },
 "nbformat": 4,
 "nbformat_minor": 4
}
